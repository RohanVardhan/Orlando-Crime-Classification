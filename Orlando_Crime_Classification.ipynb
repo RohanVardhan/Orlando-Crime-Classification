{
 "cells": [
  {
   "cell_type": "markdown",
   "metadata": {},
   "source": [
    "# Orlando Crime Classification Notebook"
   ]
  },
  {
   "cell_type": "markdown",
   "metadata": {},
   "source": [
    "### 1. Importing Libraries"
   ]
  },
  {
   "cell_type": "code",
   "execution_count": 1,
   "metadata": {
    "collapsed": true
   },
   "outputs": [],
   "source": [
    "import pandas as pd # for data manipulation\n",
    "import numpy as np # for arithmetic operations\n",
    "import math\n",
    "import matplotlib.pyplot as plt # for plotting\n",
    "%matplotlib inline\n",
    "\n",
    "from sklearn.neighbors import KNeighborsClassifier # for machine learning"
   ]
  },
  {
   "cell_type": "markdown",
   "metadata": {},
   "source": [
    "### 2. Load Data"
   ]
  },
  {
   "cell_type": "code",
   "execution_count": 2,
   "metadata": {
    "collapsed": true
   },
   "outputs": [],
   "source": [
    "# reading the csv file\n",
    "\n",
    "df = pd.read_csv('./OPD_Crimes.csv')"
   ]
  },
  {
   "cell_type": "code",
   "execution_count": 3,
   "metadata": {},
   "outputs": [
    {
     "data": {
      "text/html": [
       "<div>\n",
       "<style>\n",
       "    .dataframe thead tr:only-child th {\n",
       "        text-align: right;\n",
       "    }\n",
       "\n",
       "    .dataframe thead th {\n",
       "        text-align: left;\n",
       "    }\n",
       "\n",
       "    .dataframe tbody tr th {\n",
       "        vertical-align: top;\n",
       "    }\n",
       "</style>\n",
       "<table border=\"1\" class=\"dataframe\">\n",
       "  <thead>\n",
       "    <tr style=\"text-align: right;\">\n",
       "      <th></th>\n",
       "      <th>Case Number</th>\n",
       "      <th>Case Date Time</th>\n",
       "      <th>Case Location</th>\n",
       "      <th>Case Offense Location Type</th>\n",
       "      <th>Case Offense Category</th>\n",
       "      <th>Case Offense Type</th>\n",
       "      <th>Case Offense Charge Type</th>\n",
       "      <th>Case Disposition</th>\n",
       "      <th>Status</th>\n",
       "      <th>Location</th>\n",
       "    </tr>\n",
       "  </thead>\n",
       "  <tbody>\n",
       "    <tr>\n",
       "      <th>0</th>\n",
       "      <td>2009-00000022</td>\n",
       "      <td>1/1/2009 0:12</td>\n",
       "      <td>6000 Block of BUFORD ST</td>\n",
       "      <td>Residence/Single</td>\n",
       "      <td>Assault</td>\n",
       "      <td>Aggravated assault</td>\n",
       "      <td>Committed</td>\n",
       "      <td>Arrest</td>\n",
       "      <td>Mapped</td>\n",
       "      <td>(28.50643746, -81.46509414)</td>\n",
       "    </tr>\n",
       "    <tr>\n",
       "      <th>1</th>\n",
       "      <td>2009-00000090</td>\n",
       "      <td>1/1/2009 0:54</td>\n",
       "      <td>6000 Block of UNIVERSAL BV</td>\n",
       "      <td>Bar/Nightclub</td>\n",
       "      <td>Assault</td>\n",
       "      <td>Simple assault</td>\n",
       "      <td>Committed</td>\n",
       "      <td>Arrest</td>\n",
       "      <td>Mapped</td>\n",
       "      <td>(28.47343236, -81.46410979)</td>\n",
       "    </tr>\n",
       "    <tr>\n",
       "      <th>2</th>\n",
       "      <td>2009-00000114</td>\n",
       "      <td>1/1/2009 1:06</td>\n",
       "      <td>400 Block of N ORANGE BLOSSOM TL</td>\n",
       "      <td>Bar/Nightclub</td>\n",
       "      <td>Theft</td>\n",
       "      <td>Theft from motor vehicle except parts/accessories</td>\n",
       "      <td>Committed</td>\n",
       "      <td>Closed</td>\n",
       "      <td>Mapped</td>\n",
       "      <td>(28.5483789, -81.39736127)</td>\n",
       "    </tr>\n",
       "    <tr>\n",
       "      <th>3</th>\n",
       "      <td>2009-00000149</td>\n",
       "      <td>1/1/2009 1:29</td>\n",
       "      <td>4100 Block of S SEMORAN BV</td>\n",
       "      <td>Apartment/Condo</td>\n",
       "      <td>Robbery</td>\n",
       "      <td>Robbery</td>\n",
       "      <td>Committed</td>\n",
       "      <td>Closed</td>\n",
       "      <td>Mapped</td>\n",
       "      <td>(28.50251214, -81.3102498)</td>\n",
       "    </tr>\n",
       "    <tr>\n",
       "      <th>4</th>\n",
       "      <td>2009-00000181</td>\n",
       "      <td>1/1/2009 1:48</td>\n",
       "      <td>1 Block of W CHURCH ST</td>\n",
       "      <td>Highway/Roadway/Sidewalk</td>\n",
       "      <td>Assault</td>\n",
       "      <td>Simple assault</td>\n",
       "      <td>Committed</td>\n",
       "      <td>Arrest</td>\n",
       "      <td>Mapped</td>\n",
       "      <td>(28.54032149, -81.37988988)</td>\n",
       "    </tr>\n",
       "  </tbody>\n",
       "</table>\n",
       "</div>"
      ],
      "text/plain": [
       "     Case Number Case Date Time                     Case Location  \\\n",
       "0  2009-00000022  1/1/2009 0:12           6000 Block of BUFORD ST   \n",
       "1  2009-00000090  1/1/2009 0:54        6000 Block of UNIVERSAL BV   \n",
       "2  2009-00000114  1/1/2009 1:06  400 Block of N ORANGE BLOSSOM TL   \n",
       "3  2009-00000149  1/1/2009 1:29        4100 Block of S SEMORAN BV   \n",
       "4  2009-00000181  1/1/2009 1:48            1 Block of W CHURCH ST   \n",
       "\n",
       "  Case Offense Location Type Case Offense Category  \\\n",
       "0           Residence/Single               Assault   \n",
       "1              Bar/Nightclub               Assault   \n",
       "2              Bar/Nightclub                 Theft   \n",
       "3            Apartment/Condo               Robbery   \n",
       "4   Highway/Roadway/Sidewalk               Assault   \n",
       "\n",
       "                                   Case Offense Type Case Offense Charge Type  \\\n",
       "0                                 Aggravated assault                Committed   \n",
       "1                                     Simple assault                Committed   \n",
       "2  Theft from motor vehicle except parts/accessories                Committed   \n",
       "3                                            Robbery                Committed   \n",
       "4                                     Simple assault                Committed   \n",
       "\n",
       "  Case Disposition  Status                     Location  \n",
       "0           Arrest  Mapped  (28.50643746, -81.46509414)  \n",
       "1           Arrest  Mapped  (28.47343236, -81.46410979)  \n",
       "2           Closed  Mapped   (28.5483789, -81.39736127)  \n",
       "3           Closed  Mapped   (28.50251214, -81.3102498)  \n",
       "4           Arrest  Mapped  (28.54032149, -81.37988988)  "
      ]
     },
     "execution_count": 3,
     "metadata": {},
     "output_type": "execute_result"
    }
   ],
   "source": [
    "# displaying first 5 rows\n",
    "\n",
    "df.head()"
   ]
  },
  {
   "cell_type": "markdown",
   "metadata": {},
   "source": [
    "### 3. Data Cleaning"
   ]
  },
  {
   "cell_type": "code",
   "execution_count": 4,
   "metadata": {},
   "outputs": [
    {
     "name": "stdout",
     "output_type": "stream",
     "text": [
      "<class 'pandas.core.frame.DataFrame'>\n",
      "RangeIndex: 160947 entries, 0 to 160946\n",
      "Data columns (total 10 columns):\n",
      "Case Number                   160947 non-null object\n",
      "Case Date Time                160947 non-null object\n",
      "Case Location                 160947 non-null object\n",
      "Case Offense Location Type    160947 non-null object\n",
      "Case Offense Category         160947 non-null object\n",
      "Case Offense Type             160947 non-null object\n",
      "Case Offense Charge Type      160947 non-null object\n",
      "Case Disposition              160947 non-null object\n",
      "Status                        160947 non-null object\n",
      "Location                      158460 non-null object\n",
      "dtypes: object(10)\n",
      "memory usage: 6.1+ MB\n"
     ]
    }
   ],
   "source": [
    "# checking for null values\n",
    "\n",
    "df.info()"
   ]
  },
  {
   "cell_type": "code",
   "execution_count": 5,
   "metadata": {
    "collapsed": true
   },
   "outputs": [],
   "source": [
    "# removing rows with null values\n",
    "\n",
    "df = df[df['Location'].notnull()]"
   ]
  },
  {
   "cell_type": "code",
   "execution_count": 6,
   "metadata": {},
   "outputs": [
    {
     "name": "stdout",
     "output_type": "stream",
     "text": [
      "<class 'pandas.core.frame.DataFrame'>\n",
      "Int64Index: 158460 entries, 0 to 160946\n",
      "Data columns (total 10 columns):\n",
      "Case Number                   158460 non-null object\n",
      "Case Date Time                158460 non-null object\n",
      "Case Location                 158460 non-null object\n",
      "Case Offense Location Type    158460 non-null object\n",
      "Case Offense Category         158460 non-null object\n",
      "Case Offense Type             158460 non-null object\n",
      "Case Offense Charge Type      158460 non-null object\n",
      "Case Disposition              158460 non-null object\n",
      "Status                        158460 non-null object\n",
      "Location                      158460 non-null object\n",
      "dtypes: object(10)\n",
      "memory usage: 7.3+ MB\n"
     ]
    }
   ],
   "source": [
    "df.info()"
   ]
  },
  {
   "cell_type": "code",
   "execution_count": 7,
   "metadata": {
    "collapsed": true
   },
   "outputs": [],
   "source": [
    "# separating latitude and longitude from Location \n",
    "\n",
    "df['Location'] = df['Location'].apply(lambda x:str(x).replace(',',''))\n",
    "df['Location'] = df['Location'].apply(lambda x:str(x).replace('(',''))\n",
    "df['Location'] = df['Location'].apply(lambda x:str(x).replace(')',''))\n",
    "\n",
    "df['Lat'], df['Long'] = zip(*(location.split() for location in df['Location']))\n",
    "df[['Lat','Long']] = df[['Lat', 'Long']].astype(float)"
   ]
  },
  {
   "cell_type": "code",
   "execution_count": 8,
   "metadata": {
    "collapsed": true
   },
   "outputs": [],
   "source": [
    "# separating time and date details from Case Date Time\n",
    "\n",
    "df['Date'] = df['Case Date Time'].apply(lambda x:x.split()[0])\n",
    "df['Time'] = df['Case Date Time'].apply(lambda x:(x.split()[1]).split(':')[0])\n",
    "df['Time'] = df['Time'].astype(int)\n",
    "df['Month'], df['Day'], df['Year'] = zip(*(date.split('/') for date in df['Date']))"
   ]
  },
  {
   "cell_type": "code",
   "execution_count": 9,
   "metadata": {},
   "outputs": [
    {
     "data": {
      "text/html": [
       "<div>\n",
       "<style>\n",
       "    .dataframe thead tr:only-child th {\n",
       "        text-align: right;\n",
       "    }\n",
       "\n",
       "    .dataframe thead th {\n",
       "        text-align: left;\n",
       "    }\n",
       "\n",
       "    .dataframe tbody tr th {\n",
       "        vertical-align: top;\n",
       "    }\n",
       "</style>\n",
       "<table border=\"1\" class=\"dataframe\">\n",
       "  <thead>\n",
       "    <tr style=\"text-align: right;\">\n",
       "      <th></th>\n",
       "      <th>Case Number</th>\n",
       "      <th>Case Date Time</th>\n",
       "      <th>Case Location</th>\n",
       "      <th>Case Offense Location Type</th>\n",
       "      <th>Case Offense Category</th>\n",
       "      <th>Case Offense Type</th>\n",
       "      <th>Case Offense Charge Type</th>\n",
       "      <th>Case Disposition</th>\n",
       "      <th>Status</th>\n",
       "      <th>Location</th>\n",
       "      <th>Lat</th>\n",
       "      <th>Long</th>\n",
       "      <th>Date</th>\n",
       "      <th>Time</th>\n",
       "      <th>Month</th>\n",
       "      <th>Day</th>\n",
       "      <th>Year</th>\n",
       "    </tr>\n",
       "  </thead>\n",
       "  <tbody>\n",
       "    <tr>\n",
       "      <th>0</th>\n",
       "      <td>2009-00000022</td>\n",
       "      <td>1/1/2009 0:12</td>\n",
       "      <td>6000 Block of BUFORD ST</td>\n",
       "      <td>Residence/Single</td>\n",
       "      <td>Assault</td>\n",
       "      <td>Aggravated assault</td>\n",
       "      <td>Committed</td>\n",
       "      <td>Arrest</td>\n",
       "      <td>Mapped</td>\n",
       "      <td>28.50643746 -81.46509414</td>\n",
       "      <td>28.506437</td>\n",
       "      <td>-81.465094</td>\n",
       "      <td>1/1/2009</td>\n",
       "      <td>0</td>\n",
       "      <td>1</td>\n",
       "      <td>1</td>\n",
       "      <td>2009</td>\n",
       "    </tr>\n",
       "    <tr>\n",
       "      <th>1</th>\n",
       "      <td>2009-00000090</td>\n",
       "      <td>1/1/2009 0:54</td>\n",
       "      <td>6000 Block of UNIVERSAL BV</td>\n",
       "      <td>Bar/Nightclub</td>\n",
       "      <td>Assault</td>\n",
       "      <td>Simple assault</td>\n",
       "      <td>Committed</td>\n",
       "      <td>Arrest</td>\n",
       "      <td>Mapped</td>\n",
       "      <td>28.47343236 -81.46410979</td>\n",
       "      <td>28.473432</td>\n",
       "      <td>-81.464110</td>\n",
       "      <td>1/1/2009</td>\n",
       "      <td>0</td>\n",
       "      <td>1</td>\n",
       "      <td>1</td>\n",
       "      <td>2009</td>\n",
       "    </tr>\n",
       "    <tr>\n",
       "      <th>2</th>\n",
       "      <td>2009-00000114</td>\n",
       "      <td>1/1/2009 1:06</td>\n",
       "      <td>400 Block of N ORANGE BLOSSOM TL</td>\n",
       "      <td>Bar/Nightclub</td>\n",
       "      <td>Theft</td>\n",
       "      <td>Theft from motor vehicle except parts/accessories</td>\n",
       "      <td>Committed</td>\n",
       "      <td>Closed</td>\n",
       "      <td>Mapped</td>\n",
       "      <td>28.5483789 -81.39736127</td>\n",
       "      <td>28.548379</td>\n",
       "      <td>-81.397361</td>\n",
       "      <td>1/1/2009</td>\n",
       "      <td>1</td>\n",
       "      <td>1</td>\n",
       "      <td>1</td>\n",
       "      <td>2009</td>\n",
       "    </tr>\n",
       "    <tr>\n",
       "      <th>3</th>\n",
       "      <td>2009-00000149</td>\n",
       "      <td>1/1/2009 1:29</td>\n",
       "      <td>4100 Block of S SEMORAN BV</td>\n",
       "      <td>Apartment/Condo</td>\n",
       "      <td>Robbery</td>\n",
       "      <td>Robbery</td>\n",
       "      <td>Committed</td>\n",
       "      <td>Closed</td>\n",
       "      <td>Mapped</td>\n",
       "      <td>28.50251214 -81.3102498</td>\n",
       "      <td>28.502512</td>\n",
       "      <td>-81.310250</td>\n",
       "      <td>1/1/2009</td>\n",
       "      <td>1</td>\n",
       "      <td>1</td>\n",
       "      <td>1</td>\n",
       "      <td>2009</td>\n",
       "    </tr>\n",
       "    <tr>\n",
       "      <th>4</th>\n",
       "      <td>2009-00000181</td>\n",
       "      <td>1/1/2009 1:48</td>\n",
       "      <td>1 Block of W CHURCH ST</td>\n",
       "      <td>Highway/Roadway/Sidewalk</td>\n",
       "      <td>Assault</td>\n",
       "      <td>Simple assault</td>\n",
       "      <td>Committed</td>\n",
       "      <td>Arrest</td>\n",
       "      <td>Mapped</td>\n",
       "      <td>28.54032149 -81.37988988</td>\n",
       "      <td>28.540321</td>\n",
       "      <td>-81.379890</td>\n",
       "      <td>1/1/2009</td>\n",
       "      <td>1</td>\n",
       "      <td>1</td>\n",
       "      <td>1</td>\n",
       "      <td>2009</td>\n",
       "    </tr>\n",
       "  </tbody>\n",
       "</table>\n",
       "</div>"
      ],
      "text/plain": [
       "     Case Number Case Date Time                     Case Location  \\\n",
       "0  2009-00000022  1/1/2009 0:12           6000 Block of BUFORD ST   \n",
       "1  2009-00000090  1/1/2009 0:54        6000 Block of UNIVERSAL BV   \n",
       "2  2009-00000114  1/1/2009 1:06  400 Block of N ORANGE BLOSSOM TL   \n",
       "3  2009-00000149  1/1/2009 1:29        4100 Block of S SEMORAN BV   \n",
       "4  2009-00000181  1/1/2009 1:48            1 Block of W CHURCH ST   \n",
       "\n",
       "  Case Offense Location Type Case Offense Category  \\\n",
       "0           Residence/Single               Assault   \n",
       "1              Bar/Nightclub               Assault   \n",
       "2              Bar/Nightclub                 Theft   \n",
       "3            Apartment/Condo               Robbery   \n",
       "4   Highway/Roadway/Sidewalk               Assault   \n",
       "\n",
       "                                   Case Offense Type Case Offense Charge Type  \\\n",
       "0                                 Aggravated assault                Committed   \n",
       "1                                     Simple assault                Committed   \n",
       "2  Theft from motor vehicle except parts/accessories                Committed   \n",
       "3                                            Robbery                Committed   \n",
       "4                                     Simple assault                Committed   \n",
       "\n",
       "  Case Disposition  Status                  Location        Lat       Long  \\\n",
       "0           Arrest  Mapped  28.50643746 -81.46509414  28.506437 -81.465094   \n",
       "1           Arrest  Mapped  28.47343236 -81.46410979  28.473432 -81.464110   \n",
       "2           Closed  Mapped   28.5483789 -81.39736127  28.548379 -81.397361   \n",
       "3           Closed  Mapped   28.50251214 -81.3102498  28.502512 -81.310250   \n",
       "4           Arrest  Mapped  28.54032149 -81.37988988  28.540321 -81.379890   \n",
       "\n",
       "       Date  Time Month Day  Year  \n",
       "0  1/1/2009     0     1   1  2009  \n",
       "1  1/1/2009     0     1   1  2009  \n",
       "2  1/1/2009     1     1   1  2009  \n",
       "3  1/1/2009     1     1   1  2009  \n",
       "4  1/1/2009     1     1   1  2009  "
      ]
     },
     "execution_count": 9,
     "metadata": {},
     "output_type": "execute_result"
    }
   ],
   "source": [
    "df.head()"
   ]
  },
  {
   "cell_type": "code",
   "execution_count": 10,
   "metadata": {},
   "outputs": [
    {
     "data": {
      "text/html": [
       "<div class='tableauPlaceholder' id='viz1504935418249' style='position: relative'><noscript><a href='#'><img alt=' ' src='https:&#47;&#47;public.tableau.com&#47;static&#47;images&#47;Or&#47;Orlando_crime_classification&#47;Year&#47;1_rss.png' style='border: none' /></a></noscript><object class='tableauViz'  style='display:none;'><param name='host_url' value='https%3A%2F%2Fpublic.tableau.com%2F' /> <param name='path' value='views&#47;Orlando_crime_classification&#47;Year?:embed=y&amp;:display_count=y' /> <param name='toolbar' value='yes' /><param name='static_image' value='https:&#47;&#47;public.tableau.com&#47;static&#47;images&#47;Or&#47;Orlando_crime_classification&#47;Year&#47;1.png' /> <param name='animate_transition' value='yes' /><param name='display_static_image' value='yes' /><param name='display_spinner' value='yes' /><param name='display_overlay' value='yes' /><param name='display_count' value='yes' /></object></div>                <script type='text/javascript'>                    var divElement = document.getElementById('viz1504935418249');                    var vizElement = divElement.getElementsByTagName('object')[0];                    vizElement.style.width='100%';vizElement.style.height=(divElement.offsetWidth*0.75)+'px';                    var scriptElement = document.createElement('script');                    scriptElement.src = 'https://public.tableau.com/javascripts/api/viz_v1.js';                    vizElement.parentNode.insertBefore(scriptElement, vizElement);                </script>"
      ],
      "text/plain": [
       "<IPython.core.display.HTML object>"
      ]
     },
     "metadata": {},
     "output_type": "display_data"
    }
   ],
   "source": [
    "%%HTML\n",
    "<div class='tableauPlaceholder' id='viz1504935418249' style='position: relative'><noscript><a href='#'><img alt=' ' src='https:&#47;&#47;public.tableau.com&#47;static&#47;images&#47;Or&#47;Orlando_crime_classification&#47;Year&#47;1_rss.png' style='border: none' /></a></noscript><object class='tableauViz'  style='display:none;'><param name='host_url' value='https%3A%2F%2Fpublic.tableau.com%2F' /> <param name='path' value='views&#47;Orlando_crime_classification&#47;Year?:embed=y&amp;:display_count=y' /> <param name='toolbar' value='yes' /><param name='static_image' value='https:&#47;&#47;public.tableau.com&#47;static&#47;images&#47;Or&#47;Orlando_crime_classification&#47;Year&#47;1.png' /> <param name='animate_transition' value='yes' /><param name='display_static_image' value='yes' /><param name='display_spinner' value='yes' /><param name='display_overlay' value='yes' /><param name='display_count' value='yes' /></object></div>                <script type='text/javascript'>                    var divElement = document.getElementById('viz1504935418249');                    var vizElement = divElement.getElementsByTagName('object')[0];                    vizElement.style.width='100%';vizElement.style.height=(divElement.offsetWidth*0.75)+'px';                    var scriptElement = document.createElement('script');                    scriptElement.src = 'https://public.tableau.com/javascripts/api/viz_v1.js';                    vizElement.parentNode.insertBefore(scriptElement, vizElement);                </script>"
   ]
  },
  {
   "cell_type": "markdown",
   "metadata": {},
   "source": [
    "### 4. Machine Learning Model"
   ]
  },
  {
   "cell_type": "code",
   "execution_count": 11,
   "metadata": {
    "collapsed": true
   },
   "outputs": [],
   "source": [
    "# logloss function\n",
    "\n",
    "def ll(act, pred):\n",
    "    return (-(~(act == pred)).astype(int) * math.log(1e-15)).sum() / len(act)"
   ]
  },
  {
   "cell_type": "code",
   "execution_count": 12,
   "metadata": {
    "collapsed": true
   },
   "outputs": [],
   "source": [
    "# spliting training and testing data\n",
    "\n",
    "msk = np.random.rand(len(df)) < 0.7\n",
    "knn_train = df[msk]\n",
    "knn_test = df[~msk]\n",
    "n = len(knn_test)"
   ]
  },
  {
   "cell_type": "code",
   "execution_count": null,
   "metadata": {
    "collapsed": true
   },
   "outputs": [],
   "source": [
    "x = knn_train[['Lat','Long']]\n",
    "y = knn_train['Case Offense Category'].astype('category')\n",
    "actual = knn_test['Case Offense Category'].astype('category')"
   ]
  },
  {
   "cell_type": "code",
   "execution_count": null,
   "metadata": {},
   "outputs": [],
   "source": [
    "# finding optimal number of neighbours\n",
    "\n",
    "logloss = []\n",
    "for i in range(1, 50, 1):\n",
    "    knn = KNeighborsClassifier(n_neighbors=i)\n",
    "    knn.fit(x, y)\n",
    "    outcome = knn.predict(knn_train[['Lat','Long']])\n",
    "    logloss.append(ll(y, outcome))\n",
    "\n",
    "plt.plot(logloss)\n",
    "#plt.savefig('n_neighbors_vs_logloss.png')\n",
    "plt.show()"
   ]
  },
  {
   "cell_type": "code",
   "execution_count": null,
   "metadata": {
    "collapsed": true
   },
   "outputs": [],
   "source": [
    "# applying k-nearest neighbours to predict on test data\n",
    "\n",
    "knnTest = KNeighborsClassifier(n_neighbors=18)\n",
    "knnTest.fit(x,y)\n",
    "pred = knnTest.predict(knn_test[['Lat','Long']])"
   ]
  },
  {
   "cell_type": "code",
   "execution_count": null,
   "metadata": {
    "collapsed": true
   },
   "outputs": [],
   "source": [
    "crime = pd.DataFrame()\n",
    "for category in y.cat.categories:\n",
    "    crime[category] = np.where(pred == category, 1, 0) "
   ]
  },
  {
   "cell_type": "code",
   "execution_count": null,
   "metadata": {},
   "outputs": [],
   "source": [
    "crime.head(10)"
   ]
  },
  {
   "cell_type": "code",
   "execution_count": null,
   "metadata": {
    "collapsed": true
   },
   "outputs": [],
   "source": []
  },
  {
   "cell_type": "code",
   "execution_count": null,
   "metadata": {
    "collapsed": true
   },
   "outputs": [],
   "source": []
  }
 ],
 "metadata": {
  "kernelspec": {
   "display_name": "Python 3",
   "language": "python",
   "name": "python3"
  },
  "language_info": {
   "codemirror_mode": {
    "name": "ipython",
    "version": 3
   },
   "file_extension": ".py",
   "mimetype": "text/x-python",
   "name": "python",
   "nbconvert_exporter": "python",
   "pygments_lexer": "ipython3",
   "version": "3.5.2"
  }
 },
 "nbformat": 4,
 "nbformat_minor": 2
}
